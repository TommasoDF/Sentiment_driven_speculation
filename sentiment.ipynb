{
 "cells": [
  {
   "cell_type": "code",
   "execution_count": 1,
   "metadata": {},
   "outputs": [
    {
     "name": "stderr",
     "output_type": "stream",
     "text": [
      "[nltk_data] Downloading package stopwords to\n",
      "[nltk_data]     C:\\Users\\tomma\\AppData\\Roaming\\nltk_data...\n",
      "[nltk_data]   Package stopwords is already up-to-date!\n",
      "[nltk_data] Downloading package vader_lexicon to\n",
      "[nltk_data]     C:\\Users\\tomma\\AppData\\Roaming\\nltk_data...\n",
      "[nltk_data]   Package vader_lexicon is already up-to-date!\n"
     ]
    }
   ],
   "source": [
    "import pandas as pd\n",
    "import re\n",
    "import nltk\n",
    "import numpy as np\n",
    "nltk.download('stopwords')\n",
    "from nltk.corpus import stopwords\n",
    "from nltk.stem.porter import PorterStemmer\n",
    "from datetime import datetime\n",
    "nltk.download('vader_lexicon')\n",
    "from nltk.sentiment.vader import SentimentIntensityAnalyzer\n",
    "import multiprocessing"
   ]
  },
  {
   "cell_type": "code",
   "execution_count": 13,
   "metadata": {},
   "outputs": [],
   "source": [
    "#Importing the dataframe\n",
    "df = pd.read_csv(\"Bitcoin_from_2021-04-04_23-59-21_to_2021-04-04_00-00-00.csv\")\n",
    "df = df.set_index('Datetime')\n",
    "df.index = pd.to_datetime(df.index)"
   ]
  },
  {
   "cell_type": "code",
   "execution_count": 14,
   "metadata": {},
   "outputs": [],
   "source": [
    "### Data Cleaning definition\n",
    "pat1 = r'@[A-Za-z0-9]+' # this is to remove any text with @....\n",
    "pat2 = r'https?://[A-Za-z0-9./]+'  # this is to remove the urls\n",
    "combined_pat = r'|'.join((pat1, pat2)) \n",
    "pat3 = r'[^a-zA-Z]' # to remove every other character except a-z & A-Z\n",
    "combined_pat2 = r'|'.join((combined_pat,pat3)) # we combine pat1, pat2 and pat3 to pass it in the cleaning steps"
   ]
  },
  {
   "cell_type": "code",
   "execution_count": 15,
   "metadata": {},
   "outputs": [],
   "source": [
    "### Starting the cleaning\n",
    "ps = PorterStemmer()\n",
    "cleaned_tweets = []\n",
    "for i in range(0, len(df)) :\n",
    "    if( (i+1)%10000 == 0 ):\n",
    "        print(\"Tweets %d of %d has been processed\" % ( i+1, len(df['Text']) ))\n",
    "    tweets = re.sub(combined_pat2,' ',df['Text'][i])\n",
    "    tweets = tweets.lower()\n",
    "    tweets = tweets.split()\n",
    "    tweets = [ps.stem(word) for word in tweets if not word in set(stopwords.words('english'))]\n",
    "    tweets = ' '.join(tweets)\n",
    "    cleaned_tweets.append(tweets)"
   ]
  },
  {
   "cell_type": "code",
   "execution_count": 16,
   "metadata": {},
   "outputs": [],
   "source": [
    "# Instantiate the sentiment intensity analyzer\n",
    "vader = SentimentIntensityAnalyzer()"
   ]
  },
  {
   "cell_type": "code",
   "execution_count": 17,
   "metadata": {},
   "outputs": [],
   "source": [
    "#Compute the score\n",
    "df['cleaned_tweets'] = np.array(cleaned_tweets)\n",
    "scores = df['cleaned_tweets'].apply(vader.polarity_scores).tolist()"
   ]
  },
  {
   "cell_type": "code",
   "execution_count": 18,
   "metadata": {},
   "outputs": [],
   "source": [
    "# Convert the 'scores' list of dicts into a DataFrame\n",
    "scores_df = pd.DataFrame(scores, index=df.index)# Join the DataFrames of the news and the list of dicts\n",
    "parsed_and_scored_news = df.join(scores_df)"
   ]
  },
  {
   "cell_type": "code",
   "execution_count": 19,
   "metadata": {},
   "outputs": [],
   "source": [
    "#Create a dataset with only the compound senitment and the datetime\n",
    "compact_df = pd.DataFrame({'compound': parsed_and_scored_news['compound']})"
   ]
  },
  {
   "cell_type": "code",
   "execution_count": 20,
   "metadata": {},
   "outputs": [],
   "source": [
    "# Convert the timestamp column to datetime objects\n",
    "extended_dates = pd.DataFrame({'timestamp': pd.to_datetime(compact_df.index, errors='coerce')})\n",
    "extended_dates['timestamp'].fillna(\"2099-01-01 00:00:00\", inplace=True)\n",
    "dates = extended_dates['timestamp'].dt.date.apply(lambda x: x.strftime('%Y-%m-%d'))"
   ]
  },
  {
   "cell_type": "code",
   "execution_count": 21,
   "metadata": {},
   "outputs": [],
   "source": [
    "#Create the final df by grouping for dates\n",
    "compact_df = pd.DataFrame({'compound': compact_df.compound})\n",
    "compact_df['date'] = np.array(dates)\n",
    "final_df = compact_df.groupby(['date'])['compound'].sum()"
   ]
  },
  {
   "cell_type": "code",
   "execution_count": 22,
   "metadata": {},
   "outputs": [
    {
     "name": "stdout",
     "output_type": "stream",
     "text": [
      "2021-04-04 2021-04-04\n"
     ]
    }
   ],
   "source": [
    "#Exporting\n",
    "start_day = final_df.index[0]\n",
    "end_day = final_df.index[-1]\n",
    "print(start_day, end_day)"
   ]
  },
  {
   "cell_type": "code",
   "execution_count": 12,
   "metadata": {},
   "outputs": [],
   "source": [
    "final_df.to_csv('BTCTI'+ '_from_'+ start_day + '_to_'+ end_day + '.csv')"
   ]
  }
 ],
 "metadata": {
  "kernelspec": {
   "display_name": "paper1_venv",
   "language": "python",
   "name": "python3"
  },
  "language_info": {
   "codemirror_mode": {
    "name": "ipython",
    "version": 3
   },
   "file_extension": ".py",
   "mimetype": "text/x-python",
   "name": "python",
   "nbconvert_exporter": "python",
   "pygments_lexer": "ipython3",
   "version": "3.10.8"
  },
  "orig_nbformat": 4,
  "vscode": {
   "interpreter": {
    "hash": "fb81384846b9b7f8d2f55ea8cfb80d355ddcf9934f98e7e175044fde44492714"
   }
  }
 },
 "nbformat": 4,
 "nbformat_minor": 2
}
